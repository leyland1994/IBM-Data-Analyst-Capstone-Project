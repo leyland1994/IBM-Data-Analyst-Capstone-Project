{
 "cells": [
  {
   "cell_type": "markdown",
   "metadata": {},
   "source": [
    "<p style=\"text-align:center\">\n",
    "    <a href=\"https://skills.network\" target=\"_blank\">\n",
    "    <img src=\"https://cf-courses-data.s3.us.cloud-object-storage.appdomain.cloud/assets/logos/SN_web_lightmode.png\" width=\"200\" alt=\"Skills Network Logo\"  />\n",
    "    </a>\n",
    "</p>\n"
   ]
  },
  {
   "cell_type": "markdown",
   "metadata": {},
   "source": [
    "# **Removing Duplicates**\n"
   ]
  },
  {
   "cell_type": "markdown",
   "metadata": {},
   "source": [
    "Estimated time needed: **30** minutes\n"
   ]
  },
  {
   "cell_type": "markdown",
   "metadata": {},
   "source": [
    "## Introduction\n"
   ]
  },
  {
   "cell_type": "markdown",
   "metadata": {},
   "source": [
    "In this lab, you will focus on data wrangling, an important step in preparing data for analysis. Data wrangling involves cleaning and organizing data to make it suitable for analysis. One key task in this process is removing duplicate entries, which are repeated entries that can distort analysis and lead to inaccurate conclusions.  \n"
   ]
  },
  {
   "cell_type": "markdown",
   "metadata": {},
   "source": [
    "## Objectives\n"
   ]
  },
  {
   "cell_type": "markdown",
   "metadata": {},
   "source": [
    "In this lab you will perform the following:\n"
   ]
  },
  {
   "cell_type": "markdown",
   "metadata": {},
   "source": [
    "1. Identify duplicate rows  in the dataset.\n",
    "2. Use suitable techniques to remove duplicate rows and verify the removal.\n",
    "3. Summarize how to handle missing values appropriately.\n",
    "4. Use ConvertedCompYearly to normalize compensation data.\n",
    "   \n"
   ]
  },
  {
   "cell_type": "markdown",
   "metadata": {},
   "source": [
    "### Install the Required Libraries\n"
   ]
  },
  {
   "cell_type": "code",
   "execution_count": 1,
   "metadata": {},
   "outputs": [
    {
     "name": "stdout",
     "output_type": "stream",
     "text": [
      "Requirement already satisfied: pandas in /opt/conda/lib/python3.12/site-packages (2.2.3)\n",
      "Requirement already satisfied: numpy>=1.26.0 in /opt/conda/lib/python3.12/site-packages (from pandas) (2.2.5)\n",
      "Requirement already satisfied: python-dateutil>=2.8.2 in /opt/conda/lib/python3.12/site-packages (from pandas) (2.9.0.post0)\n",
      "Requirement already satisfied: pytz>=2020.1 in /opt/conda/lib/python3.12/site-packages (from pandas) (2024.2)\n",
      "Requirement already satisfied: tzdata>=2022.7 in /opt/conda/lib/python3.12/site-packages (from pandas) (2025.2)\n",
      "Requirement already satisfied: six>=1.5 in /opt/conda/lib/python3.12/site-packages (from python-dateutil>=2.8.2->pandas) (1.17.0)\n"
     ]
    }
   ],
   "source": [
    "!pip install pandas"
   ]
  },
  {
   "cell_type": "markdown",
   "metadata": {},
   "source": [
    "### Step 1: Import Required Libraries\n"
   ]
  },
  {
   "cell_type": "code",
   "execution_count": 2,
   "metadata": {},
   "outputs": [],
   "source": [
    "import pandas as pd"
   ]
  },
  {
   "cell_type": "markdown",
   "metadata": {},
   "source": [
    "### Step 2: Load the Dataset into a DataFrame\n",
    "\n"
   ]
  },
  {
   "cell_type": "markdown",
   "metadata": {},
   "source": [
    "load the dataset using pd.read_csv()\n"
   ]
  },
  {
   "cell_type": "code",
   "execution_count": 3,
   "metadata": {},
   "outputs": [
    {
     "name": "stdout",
     "output_type": "stream",
     "text": [
      "   ResponseId                      MainBranch                 Age  \\\n",
      "0           1  I am a developer by profession  Under 18 years old   \n",
      "1           2  I am a developer by profession     35-44 years old   \n",
      "2           3  I am a developer by profession     45-54 years old   \n",
      "3           4           I am learning to code     18-24 years old   \n",
      "4           5  I am a developer by profession     18-24 years old   \n",
      "\n",
      "            Employment RemoteWork   Check  \\\n",
      "0  Employed, full-time     Remote  Apples   \n",
      "1  Employed, full-time     Remote  Apples   \n",
      "2  Employed, full-time     Remote  Apples   \n",
      "3   Student, full-time        NaN  Apples   \n",
      "4   Student, full-time        NaN  Apples   \n",
      "\n",
      "                                    CodingActivities  \\\n",
      "0                                              Hobby   \n",
      "1  Hobby;Contribute to open-source projects;Other...   \n",
      "2  Hobby;Contribute to open-source projects;Other...   \n",
      "3                                                NaN   \n",
      "4                                                NaN   \n",
      "\n",
      "                                             EdLevel  \\\n",
      "0                          Primary/elementary school   \n",
      "1       Bachelor’s degree (B.A., B.S., B.Eng., etc.)   \n",
      "2    Master’s degree (M.A., M.S., M.Eng., MBA, etc.)   \n",
      "3  Some college/university study without earning ...   \n",
      "4  Secondary school (e.g. American high school, G...   \n",
      "\n",
      "                                           LearnCode  \\\n",
      "0                             Books / Physical media   \n",
      "1  Books / Physical media;Colleague;On the job tr...   \n",
      "2  Books / Physical media;Colleague;On the job tr...   \n",
      "3  Other online resources (e.g., videos, blogs, f...   \n",
      "4  Other online resources (e.g., videos, blogs, f...   \n",
      "\n",
      "                                     LearnCodeOnline  ... JobSatPoints_6  \\\n",
      "0                                                NaN  ...            NaN   \n",
      "1  Technical documentation;Blogs;Books;Written Tu...  ...            0.0   \n",
      "2  Technical documentation;Blogs;Books;Written Tu...  ...            NaN   \n",
      "3  Stack Overflow;How-to videos;Interactive tutorial  ...            NaN   \n",
      "4  Technical documentation;Blogs;Written Tutorial...  ...            NaN   \n",
      "\n",
      "  JobSatPoints_7 JobSatPoints_8 JobSatPoints_9 JobSatPoints_10  \\\n",
      "0            NaN            NaN            NaN             NaN   \n",
      "1            0.0            0.0            0.0             0.0   \n",
      "2            NaN            NaN            NaN             NaN   \n",
      "3            NaN            NaN            NaN             NaN   \n",
      "4            NaN            NaN            NaN             NaN   \n",
      "\n",
      "  JobSatPoints_11           SurveyLength SurveyEase ConvertedCompYearly JobSat  \n",
      "0             NaN                    NaN        NaN                 NaN    NaN  \n",
      "1             0.0                    NaN        NaN                 NaN    NaN  \n",
      "2             NaN  Appropriate in length       Easy                 NaN    NaN  \n",
      "3             NaN               Too long       Easy                 NaN    NaN  \n",
      "4             NaN              Too short       Easy                 NaN    NaN  \n",
      "\n",
      "[5 rows x 114 columns]\n"
     ]
    }
   ],
   "source": [
    "# Define the URL of the dataset\n",
    "file_path = \"https://cf-courses-data.s3.us.cloud-object-storage.appdomain.cloud/n01PQ9pSmiRX6520flujwQ/survey-data.csv\"\n",
    "\n",
    "# Load the dataset into a DataFrame\n",
    "df = pd.read_csv(file_path)\n",
    "\n",
    "# Display the first few rows to ensure it loaded correctly\n",
    "print(df.head())\n"
   ]
  },
  {
   "cell_type": "markdown",
   "metadata": {},
   "source": [
    "**Note: If you are working on a local Jupyter environment, you can use the URL directly in the <code>pandas.read_csv()</code>  function as shown below:**\n",
    "\n"
   ]
  },
  {
   "cell_type": "markdown",
   "metadata": {},
   "source": [
    "#df = pd.read_csv(\"https://cf-courses-data.s3.us.cloud-object-storage.appdomain.cloud/n01PQ9pSmiRX6520flujwQ/survey-data.csv\")\n"
   ]
  },
  {
   "cell_type": "markdown",
   "metadata": {},
   "source": [
    "### Step 3: Identifying Duplicate Rows\n"
   ]
  },
  {
   "cell_type": "markdown",
   "metadata": {},
   "source": [
    "**Task 1: Identify Duplicate Rows**\n",
    "  1. Count the number of duplicate rows in the dataset.\n",
    "  2. Display the first few duplicate rows to understand their structure.\n"
   ]
  },
  {
   "cell_type": "code",
   "execution_count": 8,
   "metadata": {},
   "outputs": [
    {
     "name": "stdout",
     "output_type": "stream",
     "text": [
      "Total duplicate rows (entire row duplicates): 0\n",
      "\n",
      "No complete duplicate rows found in the dataset.\n",
      "\n",
      "Partial duplicates (based on ['MainBranch', 'Employment', 'RemoteWork']): 65270\n",
      "\n",
      "First 5 partial duplicates (based on ['MainBranch', 'Employment', 'RemoteWork']):\n"
     ]
    },
    {
     "data": {
      "text/html": [
       "<div>\n",
       "<style scoped>\n",
       "    .dataframe tbody tr th:only-of-type {\n",
       "        vertical-align: middle;\n",
       "    }\n",
       "\n",
       "    .dataframe tbody tr th {\n",
       "        vertical-align: top;\n",
       "    }\n",
       "\n",
       "    .dataframe thead th {\n",
       "        text-align: right;\n",
       "    }\n",
       "</style>\n",
       "<table border=\"1\" class=\"dataframe\">\n",
       "  <thead>\n",
       "    <tr style=\"text-align: right;\">\n",
       "      <th></th>\n",
       "      <th>ResponseId</th>\n",
       "      <th>MainBranch</th>\n",
       "      <th>Age</th>\n",
       "      <th>Employment</th>\n",
       "      <th>RemoteWork</th>\n",
       "      <th>Check</th>\n",
       "      <th>CodingActivities</th>\n",
       "      <th>EdLevel</th>\n",
       "      <th>LearnCode</th>\n",
       "      <th>LearnCodeOnline</th>\n",
       "      <th>...</th>\n",
       "      <th>JobSatPoints_6</th>\n",
       "      <th>JobSatPoints_7</th>\n",
       "      <th>JobSatPoints_8</th>\n",
       "      <th>JobSatPoints_9</th>\n",
       "      <th>JobSatPoints_10</th>\n",
       "      <th>JobSatPoints_11</th>\n",
       "      <th>SurveyLength</th>\n",
       "      <th>SurveyEase</th>\n",
       "      <th>ConvertedCompYearly</th>\n",
       "      <th>JobSat</th>\n",
       "    </tr>\n",
       "  </thead>\n",
       "  <tbody>\n",
       "    <tr>\n",
       "      <th>12</th>\n",
       "      <td>13</td>\n",
       "      <td>I am a developer by profession</td>\n",
       "      <td>35-44 years old</td>\n",
       "      <td>Employed, full-time</td>\n",
       "      <td>Hybrid (some remote, some in-person)</td>\n",
       "      <td>Apples</td>\n",
       "      <td>Hobby;Contribute to open-source projects;Profe...</td>\n",
       "      <td>Bachelor’s degree (B.A., B.S., B.Eng., etc.)</td>\n",
       "      <td>Books / Physical media;On the job training;Sch...</td>\n",
       "      <td>NaN</td>\n",
       "      <td>...</td>\n",
       "      <td>30.0</td>\n",
       "      <td>0.0</td>\n",
       "      <td>0.0</td>\n",
       "      <td>20.0</td>\n",
       "      <td>10.0</td>\n",
       "      <td>10.0</td>\n",
       "      <td>Appropriate in length</td>\n",
       "      <td>Easy</td>\n",
       "      <td>NaN</td>\n",
       "      <td>8.0</td>\n",
       "    </tr>\n",
       "    <tr>\n",
       "      <th>14</th>\n",
       "      <td>15</td>\n",
       "      <td>I am a developer by profession</td>\n",
       "      <td>25-34 years old</td>\n",
       "      <td>Employed, full-time</td>\n",
       "      <td>Hybrid (some remote, some in-person)</td>\n",
       "      <td>Apples</td>\n",
       "      <td>Hobby;Professional development or self-paced l...</td>\n",
       "      <td>Master’s degree (M.A., M.S., M.Eng., MBA, etc.)</td>\n",
       "      <td>Books / Physical media;Other online resources ...</td>\n",
       "      <td>Stack Overflow;Coding sessions (live or record...</td>\n",
       "      <td>...</td>\n",
       "      <td>NaN</td>\n",
       "      <td>NaN</td>\n",
       "      <td>NaN</td>\n",
       "      <td>NaN</td>\n",
       "      <td>NaN</td>\n",
       "      <td>NaN</td>\n",
       "      <td>Appropriate in length</td>\n",
       "      <td>Easy</td>\n",
       "      <td>NaN</td>\n",
       "      <td>NaN</td>\n",
       "    </tr>\n",
       "    <tr>\n",
       "      <th>15</th>\n",
       "      <td>16</td>\n",
       "      <td>I am a developer by profession</td>\n",
       "      <td>45-54 years old</td>\n",
       "      <td>Employed, full-time</td>\n",
       "      <td>Hybrid (some remote, some in-person)</td>\n",
       "      <td>Apples</td>\n",
       "      <td>Hobby</td>\n",
       "      <td>Some college/university study without earning ...</td>\n",
       "      <td>Books / Physical media;On the job training;Oth...</td>\n",
       "      <td>Technical documentation;Books;Written Tutorial...</td>\n",
       "      <td>...</td>\n",
       "      <td>0.0</td>\n",
       "      <td>0.0</td>\n",
       "      <td>0.0</td>\n",
       "      <td>0.0</td>\n",
       "      <td>0.0</td>\n",
       "      <td>0.0</td>\n",
       "      <td>Appropriate in length</td>\n",
       "      <td>Neither easy nor difficult</td>\n",
       "      <td>NaN</td>\n",
       "      <td>5.0</td>\n",
       "    </tr>\n",
       "    <tr>\n",
       "      <th>18</th>\n",
       "      <td>19</td>\n",
       "      <td>I am a developer by profession</td>\n",
       "      <td>25-34 years old</td>\n",
       "      <td>Employed, full-time</td>\n",
       "      <td>Hybrid (some remote, some in-person)</td>\n",
       "      <td>Apples</td>\n",
       "      <td>Hobby;Professional development or self-paced l...</td>\n",
       "      <td>Some college/university study without earning ...</td>\n",
       "      <td>Books / Physical media;On the job training;Oth...</td>\n",
       "      <td>Technical documentation;Blogs;Books;Stack Over...</td>\n",
       "      <td>...</td>\n",
       "      <td>60.0</td>\n",
       "      <td>10.0</td>\n",
       "      <td>10.0</td>\n",
       "      <td>0.0</td>\n",
       "      <td>0.0</td>\n",
       "      <td>0.0</td>\n",
       "      <td>Appropriate in length</td>\n",
       "      <td>Easy</td>\n",
       "      <td>NaN</td>\n",
       "      <td>10.0</td>\n",
       "    </tr>\n",
       "    <tr>\n",
       "      <th>19</th>\n",
       "      <td>20</td>\n",
       "      <td>I am a developer by profession</td>\n",
       "      <td>35-44 years old</td>\n",
       "      <td>Employed, full-time</td>\n",
       "      <td>Hybrid (some remote, some in-person)</td>\n",
       "      <td>Apples</td>\n",
       "      <td>Hobby;Professional development or self-paced l...</td>\n",
       "      <td>Some college/university study without earning ...</td>\n",
       "      <td>Books / Physical media;Other online resources ...</td>\n",
       "      <td>Technical documentation;Blogs;Books;Written Tu...</td>\n",
       "      <td>...</td>\n",
       "      <td>NaN</td>\n",
       "      <td>NaN</td>\n",
       "      <td>NaN</td>\n",
       "      <td>NaN</td>\n",
       "      <td>NaN</td>\n",
       "      <td>NaN</td>\n",
       "      <td>Appropriate in length</td>\n",
       "      <td>Neither easy nor difficult</td>\n",
       "      <td>NaN</td>\n",
       "      <td>NaN</td>\n",
       "    </tr>\n",
       "  </tbody>\n",
       "</table>\n",
       "<p>5 rows × 114 columns</p>\n",
       "</div>"
      ],
      "text/plain": [
       "    ResponseId                      MainBranch              Age  \\\n",
       "12          13  I am a developer by profession  35-44 years old   \n",
       "14          15  I am a developer by profession  25-34 years old   \n",
       "15          16  I am a developer by profession  45-54 years old   \n",
       "18          19  I am a developer by profession  25-34 years old   \n",
       "19          20  I am a developer by profession  35-44 years old   \n",
       "\n",
       "             Employment                            RemoteWork   Check  \\\n",
       "12  Employed, full-time  Hybrid (some remote, some in-person)  Apples   \n",
       "14  Employed, full-time  Hybrid (some remote, some in-person)  Apples   \n",
       "15  Employed, full-time  Hybrid (some remote, some in-person)  Apples   \n",
       "18  Employed, full-time  Hybrid (some remote, some in-person)  Apples   \n",
       "19  Employed, full-time  Hybrid (some remote, some in-person)  Apples   \n",
       "\n",
       "                                     CodingActivities  \\\n",
       "12  Hobby;Contribute to open-source projects;Profe...   \n",
       "14  Hobby;Professional development or self-paced l...   \n",
       "15                                              Hobby   \n",
       "18  Hobby;Professional development or self-paced l...   \n",
       "19  Hobby;Professional development or self-paced l...   \n",
       "\n",
       "                                              EdLevel  \\\n",
       "12       Bachelor’s degree (B.A., B.S., B.Eng., etc.)   \n",
       "14    Master’s degree (M.A., M.S., M.Eng., MBA, etc.)   \n",
       "15  Some college/university study without earning ...   \n",
       "18  Some college/university study without earning ...   \n",
       "19  Some college/university study without earning ...   \n",
       "\n",
       "                                            LearnCode  \\\n",
       "12  Books / Physical media;On the job training;Sch...   \n",
       "14  Books / Physical media;Other online resources ...   \n",
       "15  Books / Physical media;On the job training;Oth...   \n",
       "18  Books / Physical media;On the job training;Oth...   \n",
       "19  Books / Physical media;Other online resources ...   \n",
       "\n",
       "                                      LearnCodeOnline  ... JobSatPoints_6  \\\n",
       "12                                                NaN  ...           30.0   \n",
       "14  Stack Overflow;Coding sessions (live or record...  ...            NaN   \n",
       "15  Technical documentation;Books;Written Tutorial...  ...            0.0   \n",
       "18  Technical documentation;Blogs;Books;Stack Over...  ...           60.0   \n",
       "19  Technical documentation;Blogs;Books;Written Tu...  ...            NaN   \n",
       "\n",
       "   JobSatPoints_7 JobSatPoints_8 JobSatPoints_9 JobSatPoints_10  \\\n",
       "12            0.0            0.0           20.0            10.0   \n",
       "14            NaN            NaN            NaN             NaN   \n",
       "15            0.0            0.0            0.0             0.0   \n",
       "18           10.0           10.0            0.0             0.0   \n",
       "19            NaN            NaN            NaN             NaN   \n",
       "\n",
       "   JobSatPoints_11           SurveyLength                  SurveyEase  \\\n",
       "12            10.0  Appropriate in length                        Easy   \n",
       "14             NaN  Appropriate in length                        Easy   \n",
       "15             0.0  Appropriate in length  Neither easy nor difficult   \n",
       "18             0.0  Appropriate in length                        Easy   \n",
       "19             NaN  Appropriate in length  Neither easy nor difficult   \n",
       "\n",
       "   ConvertedCompYearly JobSat  \n",
       "12                 NaN    8.0  \n",
       "14                 NaN    NaN  \n",
       "15                 NaN    5.0  \n",
       "18                 NaN   10.0  \n",
       "19                 NaN    NaN  \n",
       "\n",
       "[5 rows x 114 columns]"
      ]
     },
     "metadata": {},
     "output_type": "display_data"
    }
   ],
   "source": [
    "## Write your code here\n",
    "import pandas as pd\n",
    "\n",
    "# Load the dataset\n",
    "url = \"https://cf-courses-data.s3.us.cloud-object-storage.appdomain.cloud/n01PQ9pSmiRX6520flujwQ/survey-data.csv\"\n",
    "df = pd.read_csv(url)\n",
    "\n",
    "# Task 1: Identify Duplicate Rows\n",
    "# 1. Count total duplicate rows (entire row duplicated)\n",
    "total_duplicates = df.duplicated().sum()\n",
    "print(f\"Total duplicate rows (entire row duplicates): {total_duplicates}\")\n",
    "\n",
    "# 2. Display first 5 duplicate rows (if any exist)\n",
    "if total_duplicates > 0:\n",
    "    print(\"\\nFirst 5 duplicate rows (complete duplicates):\")\n",
    "    display(df[df.duplicated(keep=False)].head())\n",
    "else:\n",
    "    print(\"\\nNo complete duplicate rows found in the dataset.\")\n",
    "\n",
    "# 3. Count partial duplicates (based on selected key columns)\n",
    "key_columns = ['MainBranch', 'Employment', 'RemoteWork']\n",
    "partial_duplicates = df.duplicated(subset=key_columns, keep=False).sum()\n",
    "print(f\"\\nPartial duplicates (based on {key_columns}): {partial_duplicates}\")\n",
    "\n",
    "# 4. Display first 5 partial duplicates (if any exist)\n",
    "if partial_duplicates > 0:\n",
    "    print(f\"\\nFirst 5 partial duplicates (based on {key_columns}):\")\n",
    "    display(df[df.duplicated(subset=key_columns, keep=False)].sort_values(key_columns).head())\n",
    "else:\n",
    "    print(f\"\\nNo partial duplicates found based on {key_columns}\")"
   ]
  },
  {
   "cell_type": "markdown",
   "metadata": {},
   "source": [
    "### Step 4: Removing Duplicate Rows\n"
   ]
  },
  {
   "cell_type": "markdown",
   "metadata": {},
   "source": [
    "**Task 2: Remove Duplicates**\n",
    "   1. Remove duplicate rows from the dataset using the drop_duplicates() function.\n",
    "2. Verify the removal by counting the number of duplicate rows after removal .\n"
   ]
  },
  {
   "cell_type": "code",
   "execution_count": 9,
   "metadata": {},
   "outputs": [
    {
     "name": "stdout",
     "output_type": "stream",
     "text": [
      "Original dataset shape: (65437, 114)\n",
      "\n",
      "Remaining complete duplicates after cleaning: 0\n",
      "Remaining partial duplicates based on ['MainBranch', 'Employment', 'RemoteWork']: 0\n",
      "\n",
      "Cleaned dataset shape: (561, 114)\n",
      "Total rows removed: 64876\n",
      "\n",
      "Sample of 3 removed duplicate rows:\n"
     ]
    },
    {
     "data": {
      "text/html": [
       "<div>\n",
       "<style scoped>\n",
       "    .dataframe tbody tr th:only-of-type {\n",
       "        vertical-align: middle;\n",
       "    }\n",
       "\n",
       "    .dataframe tbody tr th {\n",
       "        vertical-align: top;\n",
       "    }\n",
       "\n",
       "    .dataframe thead th {\n",
       "        text-align: right;\n",
       "    }\n",
       "</style>\n",
       "<table border=\"1\" class=\"dataframe\">\n",
       "  <thead>\n",
       "    <tr style=\"text-align: right;\">\n",
       "      <th></th>\n",
       "      <th>ResponseId</th>\n",
       "      <th>MainBranch</th>\n",
       "      <th>Age</th>\n",
       "      <th>Employment</th>\n",
       "      <th>RemoteWork</th>\n",
       "      <th>Check</th>\n",
       "      <th>CodingActivities</th>\n",
       "      <th>EdLevel</th>\n",
       "      <th>LearnCode</th>\n",
       "      <th>LearnCodeOnline</th>\n",
       "      <th>...</th>\n",
       "      <th>JobSatPoints_6</th>\n",
       "      <th>JobSatPoints_7</th>\n",
       "      <th>JobSatPoints_8</th>\n",
       "      <th>JobSatPoints_9</th>\n",
       "      <th>JobSatPoints_10</th>\n",
       "      <th>JobSatPoints_11</th>\n",
       "      <th>SurveyLength</th>\n",
       "      <th>SurveyEase</th>\n",
       "      <th>ConvertedCompYearly</th>\n",
       "      <th>JobSat</th>\n",
       "    </tr>\n",
       "  </thead>\n",
       "  <tbody>\n",
       "    <tr>\n",
       "      <th>43604</th>\n",
       "      <td>43605</td>\n",
       "      <td>I am a developer by profession</td>\n",
       "      <td>35-44 years old</td>\n",
       "      <td>Employed, full-time</td>\n",
       "      <td>Hybrid (some remote, some in-person)</td>\n",
       "      <td>Apples</td>\n",
       "      <td>Hobby;Contribute to open-source projects;Profe...</td>\n",
       "      <td>Professional degree (JD, MD, Ph.D, Ed.D, etc.)</td>\n",
       "      <td>Books / Physical media;Other online resources ...</td>\n",
       "      <td>Technical documentation;Blogs;Books;Written Tu...</td>\n",
       "      <td>...</td>\n",
       "      <td>NaN</td>\n",
       "      <td>NaN</td>\n",
       "      <td>NaN</td>\n",
       "      <td>NaN</td>\n",
       "      <td>NaN</td>\n",
       "      <td>NaN</td>\n",
       "      <td>NaN</td>\n",
       "      <td>NaN</td>\n",
       "      <td>NaN</td>\n",
       "      <td>8.0</td>\n",
       "    </tr>\n",
       "    <tr>\n",
       "      <th>7203</th>\n",
       "      <td>7204</td>\n",
       "      <td>I am a developer by profession</td>\n",
       "      <td>18-24 years old</td>\n",
       "      <td>Student, full-time;Employed, part-time</td>\n",
       "      <td>Hybrid (some remote, some in-person)</td>\n",
       "      <td>Apples</td>\n",
       "      <td>Hobby;School or academic work</td>\n",
       "      <td>Some college/university study without earning ...</td>\n",
       "      <td>Other online resources (e.g., videos, blogs, f...</td>\n",
       "      <td>Technical documentation;Blogs;Written Tutorial...</td>\n",
       "      <td>...</td>\n",
       "      <td>NaN</td>\n",
       "      <td>NaN</td>\n",
       "      <td>NaN</td>\n",
       "      <td>NaN</td>\n",
       "      <td>NaN</td>\n",
       "      <td>NaN</td>\n",
       "      <td>Appropriate in length</td>\n",
       "      <td>Easy</td>\n",
       "      <td>570.0</td>\n",
       "      <td>NaN</td>\n",
       "    </tr>\n",
       "    <tr>\n",
       "      <th>48385</th>\n",
       "      <td>48386</td>\n",
       "      <td>I am a developer by profession</td>\n",
       "      <td>25-34 years old</td>\n",
       "      <td>Independent contractor, freelancer, or self-em...</td>\n",
       "      <td>Remote</td>\n",
       "      <td>Apples</td>\n",
       "      <td>Hobby;Freelance/contract work</td>\n",
       "      <td>Bachelor’s degree (B.A., B.S., B.Eng., etc.)</td>\n",
       "      <td>Books / Physical media;Colleague;On the job tr...</td>\n",
       "      <td>Technical documentation;Blogs;Books;Stack Over...</td>\n",
       "      <td>...</td>\n",
       "      <td>0.0</td>\n",
       "      <td>0.0</td>\n",
       "      <td>0.0</td>\n",
       "      <td>0.0</td>\n",
       "      <td>0.0</td>\n",
       "      <td>0.0</td>\n",
       "      <td>Appropriate in length</td>\n",
       "      <td>Easy</td>\n",
       "      <td>NaN</td>\n",
       "      <td>6.0</td>\n",
       "    </tr>\n",
       "  </tbody>\n",
       "</table>\n",
       "<p>3 rows × 114 columns</p>\n",
       "</div>"
      ],
      "text/plain": [
       "       ResponseId                      MainBranch              Age  \\\n",
       "43604       43605  I am a developer by profession  35-44 years old   \n",
       "7203         7204  I am a developer by profession  18-24 years old   \n",
       "48385       48386  I am a developer by profession  25-34 years old   \n",
       "\n",
       "                                              Employment  \\\n",
       "43604                                Employed, full-time   \n",
       "7203              Student, full-time;Employed, part-time   \n",
       "48385  Independent contractor, freelancer, or self-em...   \n",
       "\n",
       "                                 RemoteWork   Check  \\\n",
       "43604  Hybrid (some remote, some in-person)  Apples   \n",
       "7203   Hybrid (some remote, some in-person)  Apples   \n",
       "48385                                Remote  Apples   \n",
       "\n",
       "                                        CodingActivities  \\\n",
       "43604  Hobby;Contribute to open-source projects;Profe...   \n",
       "7203                       Hobby;School or academic work   \n",
       "48385                      Hobby;Freelance/contract work   \n",
       "\n",
       "                                                 EdLevel  \\\n",
       "43604     Professional degree (JD, MD, Ph.D, Ed.D, etc.)   \n",
       "7203   Some college/university study without earning ...   \n",
       "48385       Bachelor’s degree (B.A., B.S., B.Eng., etc.)   \n",
       "\n",
       "                                               LearnCode  \\\n",
       "43604  Books / Physical media;Other online resources ...   \n",
       "7203   Other online resources (e.g., videos, blogs, f...   \n",
       "48385  Books / Physical media;Colleague;On the job tr...   \n",
       "\n",
       "                                         LearnCodeOnline  ... JobSatPoints_6  \\\n",
       "43604  Technical documentation;Blogs;Books;Written Tu...  ...            NaN   \n",
       "7203   Technical documentation;Blogs;Written Tutorial...  ...            NaN   \n",
       "48385  Technical documentation;Blogs;Books;Stack Over...  ...            0.0   \n",
       "\n",
       "      JobSatPoints_7 JobSatPoints_8 JobSatPoints_9 JobSatPoints_10  \\\n",
       "43604            NaN            NaN            NaN             NaN   \n",
       "7203             NaN            NaN            NaN             NaN   \n",
       "48385            0.0            0.0            0.0             0.0   \n",
       "\n",
       "      JobSatPoints_11           SurveyLength SurveyEase ConvertedCompYearly  \\\n",
       "43604             NaN                    NaN        NaN                 NaN   \n",
       "7203              NaN  Appropriate in length       Easy               570.0   \n",
       "48385             0.0  Appropriate in length       Easy                 NaN   \n",
       "\n",
       "      JobSat  \n",
       "43604    8.0  \n",
       "7203     NaN  \n",
       "48385    6.0  \n",
       "\n",
       "[3 rows x 114 columns]"
      ]
     },
     "metadata": {},
     "output_type": "display_data"
    }
   ],
   "source": [
    "## Write your code here\n",
    "import pandas as pd\n",
    "\n",
    "# Load the dataset\n",
    "url = \"https://cf-courses-data.s3.us.cloud-object-storage.appdomain.cloud/n01PQ9pSmiRX6520flujwQ/survey-data.csv\"\n",
    "df = pd.read_csv(url)\n",
    "\n",
    "# Display original shape\n",
    "print(f\"Original dataset shape: {df.shape}\")\n",
    "\n",
    "# Task 2: Remove Duplicates\n",
    "# 1. Remove complete row duplicates (keeping first occurrence)\n",
    "df_cleaned = df.drop_duplicates(keep='first')\n",
    "\n",
    "# 2. Remove partial duplicates based on key columns (keeping first occurrence)\n",
    "key_columns = ['MainBranch', 'Employment', 'RemoteWork']\n",
    "df_cleaned = df_cleaned.drop_duplicates(subset=key_columns, keep='first')\n",
    "\n",
    "# Verification\n",
    "# 1. Check complete duplicates after removal\n",
    "remaining_complete_duplicates = df_cleaned.duplicated().sum()\n",
    "print(f\"\\nRemaining complete duplicates after cleaning: {remaining_complete_duplicates}\")\n",
    "\n",
    "# 2. Check partial duplicates after removal\n",
    "remaining_partial_duplicates = df_cleaned.duplicated(subset=key_columns).sum()\n",
    "print(f\"Remaining partial duplicates based on {key_columns}: {remaining_partial_duplicates}\")\n",
    "\n",
    "# 3. Show new dataset shape\n",
    "print(f\"\\nCleaned dataset shape: {df_cleaned.shape}\")\n",
    "print(f\"Total rows removed: {len(df) - len(df_cleaned)}\")\n",
    "\n",
    "# Optional: Display sample of removed duplicates\n",
    "if (len(df) - len(df_cleaned)) > 0:\n",
    "    duplicates_removed = df[~df.index.isin(df_cleaned.index)]\n",
    "    print(\"\\nSample of 3 removed duplicate rows:\")\n",
    "    display(duplicates_removed.sample(3, random_state=1))\n",
    "else:\n",
    "    print(\"\\nNo duplicates were removed.\")\n",
    "     "
   ]
  },
  {
   "cell_type": "markdown",
   "metadata": {},
   "source": [
    "### Step 5: Handling Missing Values\n"
   ]
  },
  {
   "cell_type": "markdown",
   "metadata": {},
   "source": [
    "**Task 3: Identify and Handle Missing Values**\n",
    "   1. Identify missing values for all columns in the dataset.\n",
    "   2. Choose a column with significant missing values (e.g., EdLevel) and impute with the most frequent value.\n"
   ]
  },
  {
   "cell_type": "code",
   "execution_count": 15,
   "metadata": {},
   "outputs": [
    {
     "name": "stdout",
     "output_type": "stream",
     "text": [
      "Missing values per column:\n",
      "ResponseId                 0\n",
      "MainBranch                 0\n",
      "Age                        0\n",
      "Employment                 0\n",
      "RemoteWork             10631\n",
      "                       ...  \n",
      "JobSatPoints_11        35992\n",
      "SurveyLength            9255\n",
      "SurveyEase              9199\n",
      "ConvertedCompYearly    42002\n",
      "JobSat                 36311\n",
      "Length: 114, dtype: int64\n",
      "\n",
      "Number of missing values in 'EdLevel' column: 4653\n",
      "Number of missing values in 'EdLevel' after imputation: 0\n",
      "\n",
      "Value counts of 'EdLevel' before imputation (including NaN):\n",
      "EdLevel\n",
      "Bachelor’s degree (B.A., B.S., B.Eng., etc.)                                          29595\n",
      "Master’s degree (M.A., M.S., M.Eng., MBA, etc.)                                       15557\n",
      "Some college/university study without earning a degree                                 7651\n",
      "Secondary school (e.g. American high school, German Realschule or Gymnasium, etc.)     5793\n",
      "Professional degree (JD, MD, Ph.D, Ed.D, etc.)                                         2970\n",
      "Associate degree (A.A., A.S., etc.)                                                    1793\n",
      "Primary/elementary school                                                              1146\n",
      "Something else                                                                          932\n",
      "Name: count, dtype: int64\n",
      "\n",
      "Value counts of 'EdLevel' after imputation:\n",
      "EdLevel\n",
      "Bachelor’s degree (B.A., B.S., B.Eng., etc.)                                          29595\n",
      "Master’s degree (M.A., M.S., M.Eng., MBA, etc.)                                       15557\n",
      "Some college/university study without earning a degree                                 7651\n",
      "Secondary school (e.g. American high school, German Realschule or Gymnasium, etc.)     5793\n",
      "Professional degree (JD, MD, Ph.D, Ed.D, etc.)                                         2970\n",
      "Associate degree (A.A., A.S., etc.)                                                    1793\n",
      "Primary/elementary school                                                              1146\n",
      "Something else                                                                          932\n",
      "Name: count, dtype: int64\n"
     ]
    },
    {
     "name": "stderr",
     "output_type": "stream",
     "text": [
      "/tmp/ipykernel_866/4193398469.py:13: FutureWarning: A value is trying to be set on a copy of a DataFrame or Series through chained assignment using an inplace method.\n",
      "The behavior will change in pandas 3.0. This inplace method will never work because the intermediate object on which we are setting values always behaves as a copy.\n",
      "\n",
      "For example, when doing 'df[col].method(value, inplace=True)', try using 'df.method({col: value}, inplace=True)' or df[col] = df[col].method(value) instead, to perform the operation inplace on the original object.\n",
      "\n",
      "\n",
      "  df['EdLevel'].fillna(most_frequent_edlevel, inplace=True)\n"
     ]
    }
   ],
   "source": [
    "## Write your code here\n",
    "# Identify missing values for all columns in the dataset\n",
    "missing_values = df.isnull().sum()\n",
    "print(\"Missing values per column:\")\n",
    "print(missing_values)\n",
    "\n",
    "# Choose a column with significant missing values (e.g., EdLevel)\n",
    "missing_edlevel_count = df['EdLevel'].isnull().sum()\n",
    "print(f\"\\nNumber of missing values in 'EdLevel' column: {missing_edlevel_count}\")\n",
    "\n",
    "# Impute missing values in 'EdLevel' with the most frequent value (mode)\n",
    "most_frequent_edlevel = df['EdLevel'].mode()[0]\n",
    "df['EdLevel'].fillna(most_frequent_edlevel, inplace=True)\n",
    "\n",
    "# Verify the imputation by checking the number of missing values again\n",
    "missing_edlevel_after_imputation = df['EdLevel'].isnull().sum()\n",
    "print(f\"Number of missing values in 'EdLevel' after imputation: {missing_edlevel_after_imputation}\")\n",
    "\n",
    "# Display the value counts of 'EdLevel' before and after imputation to see the change\n",
    "print(\"\\nValue counts of 'EdLevel' before imputation (including NaN):\")\n",
    "print(df['EdLevel'].value_counts(dropna=False))\n",
    "print(\"\\nValue counts of 'EdLevel' after imputation:\")\n",
    "print(df['EdLevel'].value_counts())"
   ]
  },
  {
   "cell_type": "markdown",
   "metadata": {},
   "source": [
    "### Step 6: Normalizing Compensation Data\n"
   ]
  },
  {
   "cell_type": "markdown",
   "metadata": {},
   "source": [
    "**Task 4: Normalize Compensation Data Using ConvertedCompYearly**\n",
    "   1. Use the ConvertedCompYearly column for compensation analysis as the normalized annual compensation is already provided.\n",
    "   2. Check for missing values in ConvertedCompYearly and handle them if necessary.\n"
   ]
  },
  {
   "cell_type": "code",
   "execution_count": 17,
   "metadata": {},
   "outputs": [
    {
     "name": "stdout",
     "output_type": "stream",
     "text": [
      "=== COMPENSATION DATA NORMALIZATION ===\n",
      "\n",
      "Missing values in ConvertedCompYearly: 42002 (64.2%)\n",
      "\n",
      "Missing values after median imputation: 0\n",
      "Median value used for imputation: $65,000.00\n",
      "\n",
      "Compensation Statistics:\n"
     ]
    },
    {
     "name": "stderr",
     "output_type": "stream",
     "text": [
      "/tmp/ipykernel_866/2156617462.py:22: FutureWarning: A value is trying to be set on a copy of a DataFrame or Series through chained assignment using an inplace method.\n",
      "The behavior will change in pandas 3.0. This inplace method will never work because the intermediate object on which we are setting values always behaves as a copy.\n",
      "\n",
      "For example, when doing 'df[col].method(value, inplace=True)', try using 'df.method({col: value}, inplace=True)' or df[col] = df[col].method(value) instead, to perform the operation inplace on the original object.\n",
      "\n",
      "\n",
      "  df['ConvertedCompYearly'].fillna(comp_median, inplace=True)\n"
     ]
    },
    {
     "data": {
      "text/plain": [
       "count        65,437.00\n",
       "mean         72,576.36\n",
       "std         112,220.68\n",
       "min               1.00\n",
       "25%          65,000.00\n",
       "50%          65,000.00\n",
       "75%          65,000.00\n",
       "max      16,256,603.00\n",
       "Name: ConvertedCompYearly, dtype: object"
      ]
     },
     "metadata": {},
     "output_type": "display_data"
    },
    {
     "name": "stdout",
     "output_type": "stream",
     "text": [
      "\n",
      "Compensation data normalized and ready for analysis!\n"
     ]
    }
   ],
   "source": [
    "## Write your code here\n",
    "import pandas as pd\n",
    "\n",
    "# Load the dataset\n",
    "url = \"https://cf-courses-data.s3.us.cloud-object-storage.appdomain.cloud/n01PQ9pSmiRX6520flujwQ/survey-data.csv\"\n",
    "df = pd.read_csv(url)\n",
    "\n",
    "# Task 4: Normalize Compensation Data Using ConvertedCompYearly\n",
    "print(\"=== COMPENSATION DATA NORMALIZATION ===\")\n",
    "\n",
    "# 1. Check if column exists\n",
    "if 'ConvertedCompYearly' not in df.columns:\n",
    "    print(\"Error: 'ConvertedCompYearly' column not found in dataset\")\n",
    "else:\n",
    "    # 2. Analyze missing values\n",
    "    missing_count = df['ConvertedCompYearly'].isnull().sum()\n",
    "    missing_percent = missing_count / len(df) * 100\n",
    "    print(f\"\\nMissing values in ConvertedCompYearly: {missing_count} ({missing_percent:.1f}%)\")\n",
    "\n",
    "    # 4. Handle missing values (using median imputation)\n",
    "    comp_median = df['ConvertedCompYearly'].median()\n",
    "    df['ConvertedCompYearly'].fillna(comp_median, inplace=True)\n",
    "\n",
    "    # 5. Verify imputation\n",
    "    print(f\"\\nMissing values after median imputation: {df['ConvertedCompYearly'].isnull().sum()}\")\n",
    "    print(f\"Median value used for imputation: ${comp_median:,.2f}\")\n",
    "\n",
    "    # 7. Summary statistics\n",
    "    print(\"\\nCompensation Statistics:\")\n",
    "    display(df['ConvertedCompYearly'].describe().apply(lambda x: f\"{x:,.2f}\" if pd.api.types.is_number(x) else x))\n",
    "\n",
    "    # 8. Save cleaned series for analysis\n",
    "    normalized_compensation = df['ConvertedCompYearly']\n",
    "    print(\"\\nCompensation data normalized and ready for analysis!\")\n",
    "     "
   ]
  },
  {
   "cell_type": "markdown",
   "metadata": {},
   "source": [
    "### Step 7: Summary and Next Steps\n"
   ]
  },
  {
   "cell_type": "markdown",
   "metadata": {},
   "source": [
    "**In this lab, you focused on identifying and removing duplicate rows.**\n",
    "\n",
    "- You handled missing values by imputing the most frequent value in a chosen column.\n",
    "\n",
    "- You used ConvertedCompYearly for compensation normalization and handled missing values.\n",
    "\n",
    "- For further analysis, consider exploring other columns or visualizing the cleaned dataset.\n"
   ]
  },
  {
   "cell_type": "markdown",
   "metadata": {},
   "source": [
    "\n",
    "our main focus was on cleaning the data by addressing duplicate entries and missing values.\n",
    "We started by identifying and removing duplicate rows to ensure each record was unique, which helps prevent biased analysis due to repeated data.\n",
    "Next, we dealt with missing data in the 'EdLevel' column by filling in those gaps with the most frequently occurring value (mode), allowing us to retain valuable information without discarding entire rows.\n",
    "We also handled missing values in the 'ConvertedCompYearly' column, which standardizes annual compensation in USD, by applying an appropriate imputation method (such as the median) to ensure more complete and reliable compensation data for analysis.\n",
    " With these cleaning steps completed, the dataset is now better prepared for further exploration. \n",
    "Future steps include examining other columns for missing or inconsistent data, applying additional cleaning techniques as needed, and visualizing the data through charts and graphs to uncover patterns and insights, leading to more accurate and meaningful conclusions."
   ]
  },
  {
   "cell_type": "markdown",
   "metadata": {},
   "source": [
    "<!--\n",
    "## Change Log\n",
    "\n",
    "|Date (YYYY-MM-DD)|Version|Changed By|Change Description|\n",
    "|-|-|-|-|\n",
    "|2024-11-05|1.2|Madhusudhan Moole|Updated lab|\n",
    "|2024-09-24|1.1|Madhusudhan Moole|Updated lab|\n",
    "|2024-09-23|1.0|Raghul Ramesh|Created lab|\n",
    "\n",
    "--!>\n"
   ]
  },
  {
   "cell_type": "markdown",
   "metadata": {},
   "source": [
    "Copyright © IBM Corporation. All rights reserved.\n"
   ]
  }
 ],
 "metadata": {
  "kernelspec": {
   "display_name": "Python 3 (ipykernel)",
   "language": "python",
   "name": "python3"
  },
  "language_info": {
   "codemirror_mode": {
    "name": "ipython",
    "version": 3
   },
   "file_extension": ".py",
   "mimetype": "text/x-python",
   "name": "python",
   "nbconvert_exporter": "python",
   "pygments_lexer": "ipython3",
   "version": "3.12.8"
  },
  "prev_pub_hash": "2116052544ce403759eef2159eb3d21f1d38e895d652bcaffa36a5791482361d"
 },
 "nbformat": 4,
 "nbformat_minor": 4
}
